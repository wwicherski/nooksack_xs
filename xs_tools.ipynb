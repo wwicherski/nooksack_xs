{
 "cells": [
  {
   "cell_type": "code",
   "execution_count": null,
   "metadata": {},
   "outputs": [],
   "source": [
    "def xs_to_shp(xs_csv,outname):\n",
    "    '''\n",
    "    This function converts a .csv of a surveyed cross section to a shapefile of measurements\n",
    "    The .csv must be ordered from left to right (looking downstream)\n",
    "    outname is the desired name for the output of the shapefile, must end in .shp\n",
    "    '''\n",
    "    # Read in csv, drop nan rows\n",
    "    xs = pd.read_csv(xs_csv)\n",
    "    xs = xs.dropna(how='all')\n",
    "    \n",
    "    # Create variable of endpoint coordinates\n",
    "    coords = xs.dropna(subset=[\"x\"])\n",
    "    \n",
    "    # Define left and right end points\n",
    "    lep = coords.iloc[0]\n",
    "    rep = coords.iloc[1]\n",
    "    \n",
    "    # Calculate angle of cross-section\n",
    "    angle = math.atan((lep.y-rep.y)/(lep.x-rep.x))\n",
    "    print(angle)\n",
    "    \n",
    "    # Calculate UTM easting and northing\n",
    "    if lep.x <= rep.x and lep.y <= rep.y:\n",
    "        xs['east'] = lep.x + (math.cos(angle)*(xs.dist-lep.dist))\n",
    "        xs['nrth'] = lep.y + (math.sin(angle)*(xs.dist-lep.dist))\n",
    "        print(\"west-east, south-north\")\n",
    "    elif lep.x <= rep.x and lep.y >= rep.y:\n",
    "        xs['east'] = lep.x + (math.cos(angle)*(xs.dist-lep.dist))\n",
    "        xs['nrth'] = lep.y + (math.sin(angle)*(xs.dist-lep.dist))\n",
    "        print(\"west-east, north-south\")\n",
    "    elif lep.x >= rep.x and lep.y <= rep.y:\n",
    "        xs['east'] = lep.x + (math.cos(angle)*(xs.dist-lep.dist))\n",
    "        xs['nrth'] = lep.y + (math.sin(angle)*(xs.dist-lep.dist))\n",
    "        print(\"east-west, south-north\")\n",
    "    elif lep.x >= rep.x and lep.y <= rep.y:\n",
    "        xs['east'] = lep.x + (math.cos(angle)*(xs.dist-lep.dist))\n",
    "        xs['nrth'] = lep.y - (math.sin(angle)*(xs.dist-lep.dist))\n",
    "        print(\"east-west, north-south\")\n",
    "    \n",
    "    # Combine east and nrth column to a shapely Point() object\n",
    "    xs['geometry'] = xs.apply(lambda x: Point((float(x.east), float(x.nrth))), axis=1)\n",
    "    \n",
    "    # Create shapefile in UTM from dataframe\n",
    "    xs = geopandas.GeoDataFrame(xs, geometry='geometry')\n",
    "    xs.crs = {'init' :'epsg:32610'}\n",
    "    xs.to_file(outname, driver='ESRI Shapefile')"
   ]
  }
 ],
 "metadata": {
  "kernelspec": {
   "display_name": "Python [conda env:earth-analytics-python]",
   "language": "python",
   "name": "conda-env-earth-analytics-python-py"
  },
  "language_info": {
   "codemirror_mode": {
    "name": "ipython",
    "version": 3
   },
   "file_extension": ".py",
   "mimetype": "text/x-python",
   "name": "python",
   "nbconvert_exporter": "python",
   "pygments_lexer": "ipython3",
   "version": "3.6.6"
  }
 },
 "nbformat": 4,
 "nbformat_minor": 2
}
